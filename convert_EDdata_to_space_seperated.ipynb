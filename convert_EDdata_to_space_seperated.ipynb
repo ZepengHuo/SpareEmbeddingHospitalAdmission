{
 "cells": [
  {
   "cell_type": "code",
   "execution_count": 1,
   "metadata": {},
   "outputs": [],
   "source": [
    "import pandas as pd\n",
    "from sklearn.preprocessing import StandardScaler"
   ]
  },
  {
   "cell_type": "code",
   "execution_count": 2,
   "metadata": {},
   "outputs": [],
   "source": [
    "df = pd.read_csv('edviz_raw.csv')"
   ]
  },
  {
   "cell_type": "code",
   "execution_count": 3,
   "metadata": {},
   "outputs": [
    {
     "data": {
      "text/html": [
       "<div>\n",
       "<style scoped>\n",
       "    .dataframe tbody tr th:only-of-type {\n",
       "        vertical-align: middle;\n",
       "    }\n",
       "\n",
       "    .dataframe tbody tr th {\n",
       "        vertical-align: top;\n",
       "    }\n",
       "\n",
       "    .dataframe thead th {\n",
       "        text-align: right;\n",
       "    }\n",
       "</style>\n",
       "<table border=\"1\" class=\"dataframe\">\n",
       "  <thead>\n",
       "    <tr style=\"text-align: right;\">\n",
       "      <th></th>\n",
       "      <th>dep_name</th>\n",
       "      <th>esi</th>\n",
       "      <th>age</th>\n",
       "      <th>gender</th>\n",
       "      <th>ethnicity</th>\n",
       "      <th>race</th>\n",
       "      <th>lang</th>\n",
       "      <th>religion</th>\n",
       "      <th>maritalstatus</th>\n",
       "      <th>employstatus</th>\n",
       "      <th>...</th>\n",
       "      <th>cc_vaginaldischarge</th>\n",
       "      <th>cc_vaginalpain</th>\n",
       "      <th>cc_weakness</th>\n",
       "      <th>cc_wheezing</th>\n",
       "      <th>cc_withdrawal-alcohol</th>\n",
       "      <th>cc_woundcheck</th>\n",
       "      <th>cc_woundinfection</th>\n",
       "      <th>cc_woundre-evaluation</th>\n",
       "      <th>cc_wristinjury</th>\n",
       "      <th>cc_wristpain</th>\n",
       "    </tr>\n",
       "  </thead>\n",
       "  <tbody>\n",
       "    <tr>\n",
       "      <th>0</th>\n",
       "      <td>B</td>\n",
       "      <td>4.0</td>\n",
       "      <td>40.0</td>\n",
       "      <td>Male</td>\n",
       "      <td>Hispanic or Latino</td>\n",
       "      <td>White or Caucasian</td>\n",
       "      <td>English</td>\n",
       "      <td>None</td>\n",
       "      <td>Single</td>\n",
       "      <td>Full Time</td>\n",
       "      <td>...</td>\n",
       "      <td>0.0</td>\n",
       "      <td>0.0</td>\n",
       "      <td>0.0</td>\n",
       "      <td>0.0</td>\n",
       "      <td>0.0</td>\n",
       "      <td>0.0</td>\n",
       "      <td>0.0</td>\n",
       "      <td>0.0</td>\n",
       "      <td>0.0</td>\n",
       "      <td>0.0</td>\n",
       "    </tr>\n",
       "    <tr>\n",
       "      <th>1</th>\n",
       "      <td>B</td>\n",
       "      <td>4.0</td>\n",
       "      <td>66.0</td>\n",
       "      <td>Male</td>\n",
       "      <td>Hispanic or Latino</td>\n",
       "      <td>Native Hawaiian or Other Pacific Islander</td>\n",
       "      <td>English</td>\n",
       "      <td>Pentecostal</td>\n",
       "      <td>Married</td>\n",
       "      <td>Not Employed</td>\n",
       "      <td>...</td>\n",
       "      <td>0.0</td>\n",
       "      <td>0.0</td>\n",
       "      <td>0.0</td>\n",
       "      <td>0.0</td>\n",
       "      <td>0.0</td>\n",
       "      <td>0.0</td>\n",
       "      <td>0.0</td>\n",
       "      <td>0.0</td>\n",
       "      <td>0.0</td>\n",
       "      <td>0.0</td>\n",
       "    </tr>\n",
       "    <tr>\n",
       "      <th>2</th>\n",
       "      <td>B</td>\n",
       "      <td>2.0</td>\n",
       "      <td>66.0</td>\n",
       "      <td>Male</td>\n",
       "      <td>Hispanic or Latino</td>\n",
       "      <td>Native Hawaiian or Other Pacific Islander</td>\n",
       "      <td>English</td>\n",
       "      <td>Pentecostal</td>\n",
       "      <td>Married</td>\n",
       "      <td>Not Employed</td>\n",
       "      <td>...</td>\n",
       "      <td>0.0</td>\n",
       "      <td>0.0</td>\n",
       "      <td>0.0</td>\n",
       "      <td>0.0</td>\n",
       "      <td>0.0</td>\n",
       "      <td>0.0</td>\n",
       "      <td>0.0</td>\n",
       "      <td>0.0</td>\n",
       "      <td>0.0</td>\n",
       "      <td>0.0</td>\n",
       "    </tr>\n",
       "    <tr>\n",
       "      <th>3</th>\n",
       "      <td>A</td>\n",
       "      <td>2.0</td>\n",
       "      <td>66.0</td>\n",
       "      <td>Male</td>\n",
       "      <td>Hispanic or Latino</td>\n",
       "      <td>Native Hawaiian or Other Pacific Islander</td>\n",
       "      <td>English</td>\n",
       "      <td>Pentecostal</td>\n",
       "      <td>Married</td>\n",
       "      <td>Not Employed</td>\n",
       "      <td>...</td>\n",
       "      <td>0.0</td>\n",
       "      <td>0.0</td>\n",
       "      <td>0.0</td>\n",
       "      <td>0.0</td>\n",
       "      <td>0.0</td>\n",
       "      <td>0.0</td>\n",
       "      <td>0.0</td>\n",
       "      <td>0.0</td>\n",
       "      <td>0.0</td>\n",
       "      <td>0.0</td>\n",
       "    </tr>\n",
       "    <tr>\n",
       "      <th>4</th>\n",
       "      <td>A</td>\n",
       "      <td>3.0</td>\n",
       "      <td>84.0</td>\n",
       "      <td>Female</td>\n",
       "      <td>Hispanic or Latino</td>\n",
       "      <td>Other</td>\n",
       "      <td>Other</td>\n",
       "      <td>Pentecostal</td>\n",
       "      <td>Widowed</td>\n",
       "      <td>Retired</td>\n",
       "      <td>...</td>\n",
       "      <td>0.0</td>\n",
       "      <td>0.0</td>\n",
       "      <td>0.0</td>\n",
       "      <td>0.0</td>\n",
       "      <td>0.0</td>\n",
       "      <td>0.0</td>\n",
       "      <td>0.0</td>\n",
       "      <td>0.0</td>\n",
       "      <td>0.0</td>\n",
       "      <td>0.0</td>\n",
       "    </tr>\n",
       "  </tbody>\n",
       "</table>\n",
       "<p>5 rows × 972 columns</p>\n",
       "</div>"
      ],
      "text/plain": [
       "  dep_name  esi   age  gender           ethnicity  \\\n",
       "0        B  4.0  40.0    Male  Hispanic or Latino   \n",
       "1        B  4.0  66.0    Male  Hispanic or Latino   \n",
       "2        B  2.0  66.0    Male  Hispanic or Latino   \n",
       "3        A  2.0  66.0    Male  Hispanic or Latino   \n",
       "4        A  3.0  84.0  Female  Hispanic or Latino   \n",
       "\n",
       "                                        race     lang     religion  \\\n",
       "0                         White or Caucasian  English         None   \n",
       "1  Native Hawaiian or Other Pacific Islander  English  Pentecostal   \n",
       "2  Native Hawaiian or Other Pacific Islander  English  Pentecostal   \n",
       "3  Native Hawaiian or Other Pacific Islander  English  Pentecostal   \n",
       "4                                      Other    Other  Pentecostal   \n",
       "\n",
       "  maritalstatus  employstatus      ...      cc_vaginaldischarge  \\\n",
       "0        Single     Full Time      ...                      0.0   \n",
       "1       Married  Not Employed      ...                      0.0   \n",
       "2       Married  Not Employed      ...                      0.0   \n",
       "3       Married  Not Employed      ...                      0.0   \n",
       "4       Widowed       Retired      ...                      0.0   \n",
       "\n",
       "  cc_vaginalpain cc_weakness cc_wheezing cc_withdrawal-alcohol cc_woundcheck  \\\n",
       "0            0.0         0.0         0.0                   0.0           0.0   \n",
       "1            0.0         0.0         0.0                   0.0           0.0   \n",
       "2            0.0         0.0         0.0                   0.0           0.0   \n",
       "3            0.0         0.0         0.0                   0.0           0.0   \n",
       "4            0.0         0.0         0.0                   0.0           0.0   \n",
       "\n",
       "  cc_woundinfection  cc_woundre-evaluation  cc_wristinjury  cc_wristpain  \n",
       "0               0.0                    0.0             0.0           0.0  \n",
       "1               0.0                    0.0             0.0           0.0  \n",
       "2               0.0                    0.0             0.0           0.0  \n",
       "3               0.0                    0.0             0.0           0.0  \n",
       "4               0.0                    0.0             0.0           0.0  \n",
       "\n",
       "[5 rows x 972 columns]"
      ]
     },
     "execution_count": 3,
     "metadata": {},
     "output_type": "execute_result"
    }
   ],
   "source": [
    "df.head()"
   ]
  },
  {
   "cell_type": "code",
   "execution_count": 26,
   "metadata": {},
   "outputs": [],
   "source": [
    "df.loc[10000:10100,:].to_csv('delete.csv')"
   ]
  },
  {
   "cell_type": "code",
   "execution_count": 5,
   "metadata": {},
   "outputs": [
    {
     "name": "stderr",
     "output_type": "stream",
     "text": [
      "/home/grads/g/guangzhou92/enter/envs/py36/lib/python3.6/site-packages/sklearn/utils/extmath.py:771: RuntimeWarning: invalid value encountered in true_divide\n",
      "  updated_mean = (last_sum + new_sum) / updated_sample_count\n",
      "/home/grads/g/guangzhou92/enter/envs/py36/lib/python3.6/site-packages/sklearn/utils/extmath.py:776: RuntimeWarning: Degrees of freedom <= 0 for slice.\n",
      "  new_unnormalized_variance = np.nanvar(X, axis=0) * new_sample_count\n"
     ]
    }
   ],
   "source": [
    "ed_data=df\n",
    "y = ed_data[['disposition', 'esi']]\n",
    "X = ed_data.drop(columns=['disposition', 'esi'])\n",
    "\n",
    "X_cat = X.select_dtypes(exclude=['int64', 'float64'])\n",
    "X_dog = X.select_dtypes(include=['int64', 'float64'])\n",
    "\n",
    "\n",
    "X_cat = pd.get_dummies(X_cat)\n",
    "\n",
    "X = pd.concat([X_cat, X_dog], axis=1)\n",
    "\n",
    "\n",
    "#min_max_normalizer\n",
    "#X = (X - X.min())/(X.max()-X.min())\n",
    "\n",
    "\n",
    "#standard_normalizer\n",
    "scaler = StandardScaler()\n",
    "X = pd.DataFrame(scaler.fit_transform(X.values))\n",
    "\n",
    "\n",
    "\n",
    "X = X.fillna(X.mean())\n",
    "\n",
    "X_sub = X.sample(100000, random_state = 0)\n",
    "y_sub = y.sample(100000, random_state = 0)\n",
    "\n",
    "X_sub.dropna(axis=1, how='all', inplace=True)\n",
    "\n"
   ]
  },
  {
   "cell_type": "code",
   "execution_count": 9,
   "metadata": {},
   "outputs": [
    {
     "data": {
      "text/plain": [
       "(100000, 1051)"
      ]
     },
     "execution_count": 9,
     "metadata": {},
     "output_type": "execute_result"
    }
   ],
   "source": [
    "X_sub.shape"
   ]
  },
  {
   "cell_type": "code",
   "execution_count": 10,
   "metadata": {},
   "outputs": [],
   "source": [
    "X_sub.to_csv('space_separated.csv', sep=' ', header=False)"
   ]
  },
  {
   "cell_type": "code",
   "execution_count": 12,
   "metadata": {},
   "outputs": [],
   "source": [
    "y_sub.to_csv('space_separated_labels.csv', sep=' ', header=False)"
   ]
  },
  {
   "cell_type": "code",
   "execution_count": 11,
   "metadata": {},
   "outputs": [
    {
     "data": {
      "text/plain": [
       "(560486, 972)"
      ]
     },
     "execution_count": 11,
     "metadata": {},
     "output_type": "execute_result"
    }
   ],
   "source": [
    "df.shape"
   ]
  },
  {
   "cell_type": "code",
   "execution_count": null,
   "metadata": {},
   "outputs": [],
   "source": []
  },
  {
   "cell_type": "code",
   "execution_count": null,
   "metadata": {},
   "outputs": [],
   "source": []
  }
 ],
 "metadata": {
  "kernelspec": {
   "display_name": "Python 3",
   "language": "python",
   "name": "python3"
  },
  "language_info": {
   "codemirror_mode": {
    "name": "ipython",
    "version": 3
   },
   "file_extension": ".py",
   "mimetype": "text/x-python",
   "name": "python",
   "nbconvert_exporter": "python",
   "pygments_lexer": "ipython3",
   "version": "3.6.7"
  }
 },
 "nbformat": 4,
 "nbformat_minor": 2
}
