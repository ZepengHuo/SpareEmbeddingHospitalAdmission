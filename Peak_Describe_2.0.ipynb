{
 "cells": [
  {
   "cell_type": "code",
   "execution_count": 1,
   "metadata": {},
   "outputs": [],
   "source": [
    "import numpy as np\n",
    "import pandas as pd\n",
    "import matplotlib\n",
    "matplotlib.use('Agg')\n",
    "%matplotlib inline\n",
    "import matplotlib.pyplot as plt\n",
    "\n",
    "import seaborn as sns\n",
    "\n",
    "from sklearn.decomposition import PCA\n",
    "\n",
    "from itertools import cycle, islice"
   ]
  },
  {
   "cell_type": "code",
   "execution_count": 2,
   "metadata": {},
   "outputs": [],
   "source": [
    "ed_data = pd.read_csv('../edviz_raw.csv')"
   ]
  },
  {
   "cell_type": "code",
   "execution_count": 78,
   "metadata": {},
   "outputs": [],
   "source": [
    "y = ed_data[['disposition', 'esi']]\n",
    "X = ed_data.drop(columns=['disposition', 'esi'])"
   ]
  },
  {
   "cell_type": "code",
   "execution_count": 79,
   "metadata": {},
   "outputs": [],
   "source": [
    "unnorm_X = X.copy()\n",
    "\n",
    "X_cat = X.select_dtypes(exclude=['int64', 'float64'])\n",
    "X_dog = X.select_dtypes(include=['int64', 'float64'])\n",
    "\n",
    "X_cat = pd.get_dummies(X_cat)\n",
    "\n",
    "X = pd.concat([X_cat, X_dog], axis=1)\n",
    "\n",
    "X = (X - X.min())/(X.max()-X.min())\n",
    "#X = (X - X.mean()/X.std())\n",
    "\n",
    "X = X.fillna(X.mean())\n",
    "\n",
    "X.dropna(axis=1, how='all', inplace=True)"
   ]
  },
  {
   "cell_type": "code",
   "execution_count": 80,
   "metadata": {},
   "outputs": [],
   "source": [
    "pca = PCA(n_components=10)\n",
    "pca.fit(norm_X)\n",
    "X_trans = pca.transform(norm_X)\n",
    "\n",
    "y_true = pd.get_dummies(y['disposition'])['Admit']"
   ]
  },
  {
   "cell_type": "code",
   "execution_count": 81,
   "metadata": {},
   "outputs": [],
   "source": [
    "X_large = X.copy()\n",
    "X_large.dropna(axis=1, how='all', inplace=True)\n",
    "X_large[['PCA_0', 'PCA_1']] = pd.DataFrame(X_trans)[[0,1]]"
   ]
  },
  {
   "cell_type": "code",
   "execution_count": 108,
   "metadata": {},
   "outputs": [],
   "source": [
    "def describe_peak(df, df_embedding, peak, radius=0.05, verbose=False):\n",
    "    \n",
    "    dim = len(peak)\n",
    "    df_embedding = df_embedding[:,0:dim]\n",
    "    \n",
    "    peak_entries = df[((df_embedding - peak)**2).sum(axis=1) < radius**2].describe().T\n",
    "    \n",
    "    if verbose:\n",
    "        df_stats = df.describe().T\n",
    "        print('There are %d samples (%f%%) in this peak.'\n",
    "              % (peak_entries.iloc[0]['count'],\n",
    "                 peak_entries.iloc[0]['count']/df_stats.iloc[0]['count'] * 100))\n",
    "        diff = (peak_entries - df_stats)\n",
    "        print('This sample is notable for these features above the mean:')\n",
    "        display(diff['mean'].sort_values(ascending=False).head(10))\n",
    "        print('This sample is notable for these features below the mean:')\n",
    "        display(diff['mean'].sort_values(ascending=True).head(10))\n",
    "    \n",
    "    else:\n",
    "        return peak_entries"
   ]
  },
  {
   "cell_type": "code",
   "execution_count": 109,
   "metadata": {},
   "outputs": [
    {
     "name": "stdout",
     "output_type": "stream",
     "text": [
      "There are 44 samples (0.007850%) in this peak.\n",
      "This sample is notable for these features above the mean:\n"
     ]
    },
    {
     "data": {
      "text/plain": [
       "asthma                            0.582271\n",
       "insurance_status_Medicaid         0.561519\n",
       "otjointdx                         0.552127\n",
       "htn                               0.544627\n",
       "esophgealdx                       0.518342\n",
       "unclassified                      0.515165\n",
       "diabmelnoc                        0.491246\n",
       "backproblem                       0.449372\n",
       "race_Black or African American    0.445581\n",
       "copd                              0.443612\n",
       "Name: mean, dtype: float64"
      ]
     },
     "metadata": {},
     "output_type": "display_data"
    },
    {
     "name": "stdout",
     "output_type": "stream",
     "text": [
      "This sample is notable for these features below the mean:\n"
     ]
    },
    {
     "data": {
      "text/plain": [
       "race_White or Caucasian           -0.511866\n",
       "arrivalmode_Car                   -0.398022\n",
       "insurance_status_Commercial       -0.316188\n",
       "previousdispo_No previous dispo   -0.292628\n",
       "gender_Male                       -0.265709\n",
       "maritalstatus_Married             -0.249500\n",
       "religion_Catholic                 -0.246261\n",
       "employstatus_Full Time            -0.243813\n",
       "dep_name_A                        -0.234097\n",
       "employstatus_Retired              -0.232068\n",
       "Name: mean, dtype: float64"
      ]
     },
     "metadata": {},
     "output_type": "display_data"
    }
   ],
   "source": [
    "describe_peak(X, X_trans, (.2,2), radius=.05, verbose=True)"
   ]
  },
  {
   "cell_type": "code",
   "execution_count": null,
   "metadata": {},
   "outputs": [],
   "source": []
  }
 ],
 "metadata": {
  "kernelspec": {
   "display_name": "Python 3",
   "language": "python",
   "name": "python3"
  },
  "language_info": {
   "codemirror_mode": {
    "name": "ipython",
    "version": 3
   },
   "file_extension": ".py",
   "mimetype": "text/x-python",
   "name": "python",
   "nbconvert_exporter": "python",
   "pygments_lexer": "ipython3",
   "version": "3.6.7"
  }
 },
 "nbformat": 4,
 "nbformat_minor": 2
}
